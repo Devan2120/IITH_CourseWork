{
  "nbformat": 4,
  "nbformat_minor": 0,
  "metadata": {
    "colab": {
      "provenance": []
    },
    "kernelspec": {
      "name": "python3",
      "display_name": "Python 3"
    },
    "language_info": {
      "name": "python"
    }
  },
  "cells": [
    {
      "cell_type": "markdown",
      "source": [
        "# Assignment 5\n",
        "Devananth V -EP20BTECH11004"
      ],
      "metadata": {
        "id": "fkXemIQml_EO"
      }
    },
    {
      "cell_type": "code",
      "execution_count": null,
      "metadata": {
        "id": "v1tjKym1lmDi"
      },
      "outputs": [],
      "source": [
        "import numpy as np\n",
        "import pandas as pd\n",
        "import matplotlib.pyplot as plt\n",
        "from scipy.stats import shapiro\n",
        "from scipy import stats\n",
        "from sklearn.mixture import GaussianMixture"
      ]
    },
    {
      "cell_type": "markdown",
      "source": [
        "Question 1"
      ],
      "metadata": {
        "id": "yhdkpxKsmJWi"
      }
    },
    {
      "cell_type": "code",
      "source": [
        "ds = pd.read_csv('data.txt', delim_whitespace=True, header=None, names=[\"Number\",\"Name\",\"Density\",\"Error\"])\n",
        "den = ds[\"Density\"].to_numpy()\n",
        "log_den = np.log(den)\n",
        "print(\"Shapiro Wilk test-Density :\",shapiro(den))\n",
        "print(\"Shapiro Wilk test-log of density :\",shapiro(log_den))\n",
        "x = np.linspace(0, 6, 100)\n",
        "plt.hist(den, bins = \"auto\", density = \"True\")\n",
        "mu, std = stats.norm.fit(den)\n",
        "pdf_den= stats.norm.pdf(x, mu, std)\n",
        "plt.plot(x, pdf_den)\n",
        "plt.show()\n",
        "x = np.linspace(-1, 3, 100)\n",
        "plt.hist(log_den, bins = \"auto\", density = \"True\")\n",
        "mulog, stdlog = stats.norm.fit(log_den)\n",
        "pdf_den_log = stats.norm.pdf(x, mulog, stdlog)\n",
        "plt.plot(x, pdf_den_log)\n",
        "plt.show()"
      ],
      "metadata": {
        "colab": {
          "base_uri": "https://localhost:8080/",
          "height": 548
        },
        "id": "pumxbrxPmJCx",
        "outputId": "4bd22628-0bac-4577-bcc6-7f3c90320118"
      },
      "execution_count": null,
      "outputs": [
        {
          "output_type": "stream",
          "name": "stdout",
          "text": [
            "Shapiro Wilk test-Density : ShapiroResult(statistic=0.9246721863746643, pvalue=0.051220282912254333)\n",
            "Shapiro Wilk test-log of density : ShapiroResult(statistic=0.9686306715011597, pvalue=0.5660613775253296)\n"
          ]
        },
        {
          "output_type": "display_data",
          "data": {
            "text/plain": [
              "<Figure size 432x288 with 1 Axes>"
            ],
            "image/png": "[encoded data removed]"
          },
          "metadata": {
            "needs_background": "light"
          }
        },
        {
          "output_type": "display_data",
          "data": {
            "text/plain": [
              "<Figure size 432x288 with 1 Axes>"
            ],
            "image/png": "[encoded data removed]"
          },
          "metadata": {
            "needs_background": "light"
          }
        }
      ]
    },
    {
      "cell_type": "markdown",
      "source": [
        "Question 2"
      ],
      "metadata": {
        "id": "b4UXrZkwqvMa"
      }
    },
    {
      "cell_type": "code",
      "source": [
        "cat=np.loadtxt(\"dat.txt\",float)\n",
        "col_hyades=[]\n",
        "col_nonhyades=[]\n",
        "for row in (cat):\n",
        "  RA = row[2]\n",
        "  DE = row[3]\n",
        "  PRA = row[5]\n",
        "  PDE = row[6]\n",
        "  Color = row[8]\n",
        "  if (50 < RA< 100 and 0 < DE < 25 and 90 < PRA <130 and -60<PDE< -10):\n",
        "    col_hyades.append(Color)\n",
        "  else:\n",
        "    col_nonhyades.append(Color)\n",
        "stats.ttest_ind(a=col_hyades, b=col_nonhyades, equal_var=True)"
      ],
      "metadata": {
        "colab": {
          "base_uri": "https://localhost:8080/"
        },
        "id": "hsE-A4hKr03y",
        "outputId": "15019799-f6ec-4677-b117-640a928dcb0e"
      },
      "execution_count": null,
      "outputs": [
        {
          "output_type": "execute_result",
          "data": {
            "text/plain": [
              "Ttest_indResult(statistic=-3.860436921860911, pvalue=0.00011582222192442334)"
            ]
          },
          "metadata": {},
          "execution_count": 10
        }
      ]
    },
    {
      "cell_type": "markdown",
      "source": [
        "Question 3"
      ],
      "metadata": {
        "id": "wpACWtC6rtPa"
      }
    },
    {
      "cell_type": "code",
      "source": [
        "data = np.loadtxt(\"https://people.iith.ac.in/shantanud/beppoSax.txt\",float)\n",
        "data = np.log10(data)\n",
        "dat = data.reshape(-1, 1)\n",
        "N = np.arange(1, 14)\n",
        "def compute_GaussianMixture(N, covariance_type='full', max_iter=1000):\n",
        "  models = [None for n in N]\n",
        "  for i in range(len(N)):\n",
        "    models[i] = GaussianMixture(n_components=N[i], max_iter=max_iter, covariance_type=covariance_type)\n",
        "    models[i].fit(dat)\n",
        "  return models\n",
        "models = compute_GaussianMixture(N)\n",
        "AIC = [m.aic(dat) for m in models]\n",
        "BIC = [m.bic(dat) for m in models]\n",
        "best_i = np.argmin(BIC)\n",
        "best_gmm = models[best_i]\n",
        "print(\"Best fit converged:\", best_gmm.converged_)\n",
        "print(\"BIC: n_components =  %i\" % N[best_i])\n",
        "i_best = np.argmin(AIC)\n",
        "gmm_best = models[i_best]\n",
        "print(\"Best fit converged:\", gmm_best.converged_)\n",
        "print(\"AIC: n_components =  %i\" % N[i_best])\n",
        "plt.plot(N, AIC, '-k', label='AIC')\n",
        "plt.plot(N, BIC, ':k', label='BIC')\n",
        "plt.legend()\n",
        "plt.show()"
      ],
      "metadata": {
        "colab": {
          "base_uri": "https://localhost:8080/",
          "height": 334
        },
        "id": "Jf6LHryJqxKC",
        "outputId": "2a2abc11-465d-4f16-b254-37a55ea07ed9"
      },
      "execution_count": null,
      "outputs": [
        {
          "output_type": "stream",
          "name": "stdout",
          "text": [
            "Best fit converged: True\n",
            "BIC: n_components =  2\n",
            "Best fit converged: True\n",
            "AIC: n_components =  2\n"
          ]
        },
        {
          "output_type": "display_data",
          "data": {
            "text/plain": [
              "<Figure size 432x288 with 1 Axes>"
            ],
            "image/png": "[encoded data removed]"
          },
          "metadata": {
            "needs_background": "light"
          }
        }
      ]
    },
    {
      "cell_type": "code",
      "source": [],
      "metadata": {
        "id": "kXr2OwUQruoQ"
      },
      "execution_count": null,
      "outputs": []
    }
  ]
}
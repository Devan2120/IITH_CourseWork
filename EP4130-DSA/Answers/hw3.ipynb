{
  "nbformat": 4,
  "nbformat_minor": 0,
  "metadata": {
    "colab": {
      "provenance": []
    },
    "kernelspec": {
      "name": "python3",
      "display_name": "Python 3"
    },
    "language_info": {
      "name": "python"
    }
  },
  "cells": [
    {
      "cell_type": "markdown",
      "source": [
        "# Assignment-3\n",
        "Devananth V - ep20btech11004"
      ],
      "metadata": {
        "id": "OAJxj7PqsoOR"
      }
    },
    {
      "cell_type": "code",
      "source": [
        "import scipy.stats as sc_st\n",
        "import matplotlib.pyplot as plt\n",
        "import numpy as np\n",
        "from astroML.resample import bootstrap\n",
        "import astroML.stats as as_st\n",
        "from scipy.optimize import curve_fit"
      ],
      "metadata": {
        "id": "HVw6YPcyLV1C"
      },
      "execution_count": null,
      "outputs": []
    },
    {
      "cell_type": "markdown",
      "source": [
        "Question 1"
      ],
      "metadata": {
        "id": "nam4Qp2ahKkI"
      }
    },
    {
      "cell_type": "code",
      "source": [
        "sample=np.random.normal(0,1,10000)\n",
        "s_med = bootstrap(sample, 10000,  np.median, kwargs=dict(axis=1))\n",
        "s_med_sig = as_st.median_sigmaG(s_med)[1]\n",
        "print(\"Standard Deviation=\",s_med_sig)\n",
        "print(\"sqrt(pi/(2*n) (n=10000)=\",np.sqrt(np.pi/(2*10000)))\n",
        "s_med_mean= np.mean(s_med)\n",
        "plt.hist(s_med ,bins = 20, label = \"Bootstrap Sample Meadians\", density=True )\n",
        "s_med.sort()\n",
        "plt.plot(s_med,sc_st.norm.pdf(s_med,s_med_mean,s_med_sig) , label = \"Fitted Gaussian\" )\n",
        "plt.legend()\n",
        "plt.show()"
      ],
      "metadata": {
        "id": "hLnsjsIXhNEa",
        "colab": {
          "base_uri": "https://localhost:8080/",
          "height": 301
        },
        "outputId": "ee222618-5dbf-479a-ad34-80cbd35332f9"
      },
      "execution_count": null,
      "outputs": [
        {
          "output_type": "stream",
          "name": "stdout",
          "text": [
            "Standard Deviation= 0.012845248006518055\n",
            "sqrt(pi/(2*n) (n=10000)= 0.012533141373155003\n"
          ]
        },
        {
          "output_type": "display_data",
          "data": {
            "text/plain": [
              "<Figure size 432x288 with 1 Axes>"
            ],
            "image/png": "[encoded data removed]"
          },
          "metadata": {
            "needs_background": "light"
          }
        }
      ]
    },
    {
      "cell_type": "markdown",
      "source": [
        "Question 2\n",
        "\n"
      ],
      "metadata": {
        "id": "4Rpkgb0SHtOe"
      }
    },
    {
      "cell_type": "code",
      "source": [
        "def fit(m,x,y):\n",
        "    return m*x+y\n",
        "\n",
        "f = np.loadtxt(\"/content/hw3_q2.txt\", unpack = True )\n",
        "x,y,sig_y=f[0],f[1],f[2]\n",
        "plt.errorbar(x,y, yerr = sig_y, fmt = \"b.\" , label = \"Observed\" )\n",
        "par,cov=curve_fit(fit,x,y, sigma = sig_y , absolute_sigma = True )\n",
        "y_fit=par[0]*x+par[1]\n",
        "sig_in,sig_s = np.sqrt(cov[0][0]),np.sqrt(cov[1][1])\n",
        "plt.plot(x, y_fit, color = \"r\" , label = \"Fitted\")\n",
        "print(\"Slope=\",par[0],\",Uncertainty=\",sig_s)\n",
        "print(\"The intercept=\",par[1],\",Uncertainty=\",sig_in)\n",
        "plt.legend()\n",
        "plt.show()"
      ],
      "metadata": {
        "id": "CPtqsufaHxjJ",
        "colab": {
          "base_uri": "https://localhost:8080/",
          "height": 300
        },
        "outputId": "35f58305-60a8-477f-dce7-c8d675cd7274"
      },
      "execution_count": null,
      "outputs": [
        {
          "output_type": "stream",
          "name": "stdout",
          "text": [
            "Slope= 2.0505704366346595 ,Uncertainty= 17.307159009161932\n",
            "The intercept= 69.3832644012395 ,Uncertainty= 0.10316158386735803\n"
          ]
        },
        {
          "output_type": "display_data",
          "data": {
            "text/plain": [
              "<Figure size 432x288 with 1 Axes>"
            ],
            "image/png": "[encoded data removed]"
          },
          "metadata": {
            "needs_background": "light"
          }
        }
      ]
    },
    {
      "cell_type": "markdown",
      "source": [
        "Question 3"
      ],
      "metadata": {
        "id": "vHB1HElME7Ad"
      }
    },
    {
      "cell_type": "code",
      "execution_count": null,
      "metadata": {
        "id": "sVXy193IE56t",
        "colab": {
          "base_uri": "https://localhost:8080/"
        },
        "outputId": "8ebad22b-048f-49bd-f90e-4597356b3394"
      },
      "outputs": [
        {
          "output_type": "stream",
          "name": "stdout",
          "text": [
            "p-value of graph 1 = 0.5529264339960218\n",
            "p-value of graph 2 = 0.9999999917009567\n",
            "p-value of graph 3 = 0.0\n",
            "p-value of graph 4 = 1.2107292945984227e-10\n"
          ]
        }
      ],
      "source": [
        "chi=[0.96,0.24,3.83,2.85]\n",
        "dof=49\n",
        "for i in range(len(chi)):\n",
        "  print(\"p-value of graph\",(i+1),\"=\",(1-sc_st.chi2.cdf(dof*chi[i],dof)))"
      ]
    },
    {
      "cell_type": "markdown",
      "source": [],
      "metadata": {
        "id": "HV0rtvswLSNw"
      }
    }
  ]
}
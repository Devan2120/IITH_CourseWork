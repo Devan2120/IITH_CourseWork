{
  "nbformat": 4,
  "nbformat_minor": 0,
  "metadata": {
    "colab": {
      "provenance": []
    },
    "kernelspec": {
      "name": "python3",
      "display_name": "Python 3"
    },
    "language_info": {
      "name": "python"
    }
  },
  "cells": [
    {
      "cell_type": "markdown",
      "source": [
        "# Assignment 4\n",
        "Devananth V-EP20BTECH11004"
      ],
      "metadata": {
        "id": "unBbXgiCiOVv"
      }
    },
    {
      "cell_type": "code",
      "execution_count": null,
      "metadata": {
        "id": "mJJz-TjNfbpc"
      },
      "outputs": [],
      "source": [
        "import numpy as np\n",
        "import scipy.stats as sc_st\n",
        "import matplotlib.pyplot as plt\n",
        "import scipy.optimize"
      ]
    },
    {
      "cell_type": "markdown",
      "source": [
        "Question 1"
      ],
      "metadata": {
        "id": "9G-Qlme5iavK"
      }
    },
    {
      "cell_type": "code",
      "source": [
        "def linear(x,a,b):\n",
        "  return a*x+b\n",
        "def quadratic(x,a,b,c):\n",
        "  return a*pow(x,2)+b*x+c\n",
        "def cubic(x,a,b,c,d):\n",
        "  return a*pow(x,3)+b*pow(x,2)+c*x+d\n",
        "def lkl_est(func, data, *args):\n",
        "  return np.product(np.exp(-0.5 * (((data[:,1] - func(data[:,0], *args))/data[:,2]) ** 2) ))\n",
        "def max_lkl(func, data, args):\n",
        "  return scipy.optimize.minimize(lambda x: -lkl_est(func, data, *x), args, method='Nelder-Mead').x\n",
        "\n",
        "sample=np.loadtxt(\"https://people.iith.ac.in/shantanud/testdata.dat\",float)\n",
        "x=sample[:,0]\n",
        "y=sample[:,1]\n",
        "sig_y=sample[:,2]\n",
        "\n",
        "fit1, cov1 = scipy.optimize.curve_fit(linear,x, y, sigma=sig_y)\n",
        "a, b = fit1\n",
        "print(\"Linear Fit Parameters:\",fit1)\n",
        "y_fit=linear(x,a,b)\n",
        "res= y- linear(x,a,b)\n",
        "reschi2_1 = ((res/sig_y)**2).sum()\n",
        "m_lkl = lkl_est(linear,sample, *max_lkl(linear, sample, fit1))\n",
        "aic1=2*2-2*np.log(m_lkl)\n",
        "bic1=-2*np.log(m_lkl)+2*np.log(x.size)\n",
        "print(\"AIC value of Linear fit:\",aic1)\n",
        "print(\"BIC value of Linear fit:\",bic1)\n",
        "fig = plt.figure(1, figsize=(8,8))\n",
        "plt.errorbar(x, y, yerr = sig_y, fmt = \"rD\", label = \"Original\")\n",
        "plt.plot(x, y_fit, label = \"fitted curve-Linear\")\n",
        "\n",
        "fit2, nlpcov = scipy.optimize.curve_fit(quadratic,x, y, sigma=sig_y)\n",
        "a, b, c = fit2\n",
        "print(\"Quadratic Fit Parameters:\",fit2)\n",
        "x_fit = np.linspace(0.0, 1, 100)\n",
        "y_fit=quadratic(x_fit,a,b,c)\n",
        "plt.plot(x_fit, y_fit, linestyle='dashdot', label = \"fitted curve-Quadratic\")\n",
        "res= y- quadratic(x,a,b,c)\n",
        "reschi2_2 = ((res/sig_y)**2).sum()\n",
        "y_fit=quadratic(x,a,b,c)\n",
        "m_lkl = lkl_est(quadratic,sample, *max_lkl(quadratic, sample, fit2))\n",
        "aic2=-2*np.log(m_lkl)+2*3\n",
        "bic2=-2*np.log(m_lkl)+3*np.log(x.size)\n",
        "print(\"AIC value of Quadratic fit:\",aic2)\n",
        "print(\"BIC value of Quadratic fit:\",bic2)\n",
        "\n",
        "fit3, cov3 = scipy.optimize.curve_fit(cubic,x, y, sigma=sig_y)\n",
        "a, b, c, d = fit3\n",
        "print(\"Cubic Fit Parameters:\",fit3)\n",
        "x_fit = np.linspace(0.0, 1, 100)\n",
        "y_fit=cubic(x_fit,a,b,c,d)\n",
        "plt.plot(x_fit, y_fit, linestyle='dotted', label = \"fitted curve-Cubic\")\n",
        "res= y- cubic(x,a,b,c,d)\n",
        "reschi2_3 = ((res/sig_y)**2).sum()\n",
        "y_fit=cubic(x,a,b,c,d)\n",
        "m_lkl = lkl_est(cubic,sample, *max_lkl(cubic, sample, fit3))\n",
        "aic3=-2*np.log(m_lkl)+2*4\n",
        "bic3=-2*np.log(m_lkl)+4*np.log(x.size)\n",
        "print(\"AIC value of Cubic fit:\",aic3)\n",
        "print(\"BIC value of Cubic fit:\",bic3)\n",
        "\n",
        "chi_diff1_2=reschi2_1 -reschi2_2\n",
        "p_value =1- sc_st.chi2(1).cdf(chi_diff1_2)\n",
        "print(\"p value of Quadratic using the linear model as the null hypothesis,=\", p_value)\n",
        "chi_diff2_3=reschi2_1 -reschi2_3\n",
        "p_value = 1-sc_st.chi2(2).cdf(chi_diff2_3)\n",
        "print(\"p value of Cubic using the linear model as the null hypothesis,  =\", p_value)\n",
        "\n",
        "plt.legend()\n",
        "plt.show()"
      ],
      "metadata": {
        "colab": {
          "base_uri": "https://localhost:8080/",
          "height": 674
        },
        "id": "RUTR2coCidAR",
        "outputId": "e943c4b0-af15-4a15-da97-2a03834a9e0f"
      },
      "execution_count": null,
      "outputs": [
        {
          "output_type": "stream",
          "name": "stdout",
          "text": [
            "Linear Fit Parameters: [ 2.79789861 -1.11028082]\n",
            "AIC value of Linear fit: 15.309175575502223\n",
            "BIC value of Linear fit: 17.300640122610204\n",
            "Quadratic Fit Parameters: [ 0.50261293  2.38475187 -1.05578915]\n",
            "AIC value of Quadratic fit: 15.496041767569295\n",
            "BIC value of Quadratic fit: 18.483238588231266\n",
            "Cubic Fit Parameters: [-0.96724992  1.74451332  1.97184055 -1.02910462]\n",
            "AIC value of Cubic fit: 17.085043873972353\n",
            "BIC value of Cubic fit: 21.067972968188315\n",
            "p value of Quadratic using the linear model as the null hypothesis,= 0.17813275695316733\n",
            "p value of Cubic using the linear model as the null hypothesis,  = 0.32887884419522884\n"
          ]
        },
        {
          "output_type": "display_data",
          "data": {
            "text/plain": [
              "<Figure size 576x576 with 1 Axes>"
            ],
            "image/png": "[encoded data removed]"
          },
          "metadata": {
            "needs_background": "light"
          }
        }
      ]
    },
    {
      "cell_type": "markdown",
      "source": [
        "Question 2"
      ],
      "metadata": {
        "id": "IXB5-XqUm0E3"
      }
    },
    {
      "cell_type": "code",
      "source": [
        "data = np.array([[ 0.42,  0.72,  0.  ,  0.3 ,  0.15,\n",
        "                   0.09,  0.19,  0.35,  0.4 ,  0.54,\n",
        "                   0.42,  0.69,  0.2 ,  0.88,  0.03,\n",
        "                   0.67,  0.42,  0.56,  0.14,  0.2  ],\n",
        "                 [ 0.33,  0.41, -0.22,  0.01, -0.05,\n",
        "                  -0.05, -0.12,  0.26,  0.29,  0.39,\n",
        "                   0.31,  0.42, -0.01,  0.58, -0.2 ,\n",
        "                   0.52,  0.15,  0.32, -0.13, -0.09 ],\n",
        "                 [ 0.1 ,  0.1 ,  0.1 ,  0.1 ,  0.1 ,\n",
        "                   0.1 ,  0.1 ,  0.1 ,  0.1 ,  0.1 ,\n",
        "                   0.1 ,  0.1 ,  0.1 ,  0.1 ,  0.1 ,\n",
        "                   0.1 ,  0.1 ,  0.1 ,  0.1 ,  0.1  ]])\n",
        "x, y, sigma_y = data\n",
        "\n",
        "def poly_fit(theta, x):\n",
        "    return sum(t * x ** n for (n, t) in enumerate(theta))\n",
        "\n",
        "def logL(theta, model=poly_fit, data=data):\n",
        "    x, y, sig_y = data\n",
        "    y_fit = model(theta, x)\n",
        "    return sum(sc_st.norm.logpdf(*args)for args in zip(y, y_fit, sig_y))\n",
        "\n",
        "def best_theta(degree, model=poly_fit, data=data):\n",
        "    theta_0 = (degree + 1) * [0]\n",
        "    neg_logL = lambda theta: -logL(theta, model, data)\n",
        "    return scipy.optimize.fmin_bfgs(neg_logL, theta_0, disp=False)\n",
        "\n",
        "theta1 = best_theta(1)\n",
        "theta2 = best_theta(2)\n",
        "\n",
        "xfit = np.linspace(0, 1, 1000)\n",
        "plt.errorbar(x, y, sigma_y, fmt='ok')\n",
        "plt.plot(xfit, poly_fit(theta1, xfit), label='Best Linear model')\n",
        "plt.plot(xfit, poly_fit(theta2, xfit), label='Best Quadratic model')\n",
        "plt.legend()\n",
        "plt.xlabel(\"x\")\n",
        "plt.ylabel('y')\n",
        "plt.show()\n",
        "\n",
        "m_lkl1 = lkl_est(linear,data.transpose(), *max_lkl(linear, data.transpose(), theta1))\n",
        "m_lkl2 = lkl_est(quadratic,data.transpose(), *max_lkl(quadratic, data.transpose(), theta2))\n",
        "\n",
        "aic1=-2*np.log(m_lkl1)+2*2\n",
        "aic2=-2*np.log(m_lkl2)+2*3\n",
        "n=len(x)\n",
        "bic1=-2*np.log(m_lkl1)+2*np.log(n)\n",
        "bic2=-2*np.log(m_lkl2)+3*np.log(n)\n",
        "\n",
        "print(\"Linear model AIC=\", aic1)\n",
        "print(\"Linear model BIC=\", bic1)\n",
        "print(\"Quadratic model AIC=\", aic2)\n",
        "print(\"Quadratic model BIC=\", bic2)\n",
        "\n"
      ],
      "metadata": {
        "colab": {
          "base_uri": "https://localhost:8080/",
          "height": 348
        },
        "id": "Us_1-iJCm2XY",
        "outputId": "f607a729-2c91-442f-c0bb-b7e037385374"
      },
      "execution_count": null,
      "outputs": [
        {
          "output_type": "display_data",
          "data": {
            "text/plain": [
              "<Figure size 432x288 with 1 Axes>"
            ],
            "image/png": "[encoded data removed]"
          },
          "metadata": {
            "needs_background": "light"
          }
        },
        {
          "output_type": "stream",
          "name": "stdout",
          "text": [
            "Linear model AIC= 15.324128537430177\n",
            "Linear model BIC= 17.315593084538158\n",
            "Quadratic model AIC= 15.462835314715925\n",
            "Quadratic model BIC= 18.450032135377896\n"
          ]
        }
      ]
    },
    {
      "cell_type": "markdown",
      "source": [
        "Question 3"
      ],
      "metadata": {
        "id": "bDyiZ8oMgAB5"
      }
    },
    {
      "cell_type": "markdown",
      "source": [
        "https://arxiv.org/pdf/2105.14586.pdf\n",
        "\n",
        "Kolmogorov–Smirnov Test-Based Actively-Adaptive\n",
        "Thompson Sampling for Non-Stationary Bandits\n",
        "\n",
        "On-stationary Multi-Armed Bandit (MAB) framework is considerd and a Kolmogorov-Smirnov (KS) test based Thompson Sampling (TS) algorithm named TS-KS is proposed, that actively detects change points and resets the TS parameters once a change is detected.  Kolmogorov-Smirnov (KS) test based bandit\n",
        "algorithm that provides asymptotic regret guarantees with an arbitrary probability is used. The TS algorithm actively detects a change-point based on the KS test, using the two sample KS test.\n",
        "\n",
        "The advantage is that for fixed mean, and a suitable threshold, the KS-test is able to detect a change in the environment which the mean-estimation based detection misses.\n",
        "\n",
        "Here the KS test is used accurately."
      ],
      "metadata": {
        "id": "IuUMgxQQgBpq"
      }
    },
    {
      "cell_type": "markdown",
      "source": [
        "Question 4"
      ],
      "metadata": {
        "id": "MmNDICKgv9iY"
      }
    },
    {
      "cell_type": "code",
      "source": [
        "h=sc_st.norm.isf(1.7e-9)\n",
        "print(\"Significance in terms of no of sigmas of the Higgs boson discovery claim from the p value =1.7*10^-9:\",h)\n",
        "\n",
        "l=sc_st.norm.isf(2e-7)\n",
        "print(\"Significance int terms of no of sigmas of LIGO discovery of GW150914 with p value = 2*10^-7:\",l)\n",
        "\n",
        "chi2=1-sc_st.chi2(67).cdf(65.2)\n",
        "print(\"χ2 GOF using the best-fit νμ ↔ ντ oscillation solution of Super-K discovery paper for neutrino oscillations:\",chi2)"
      ],
      "metadata": {
        "colab": {
          "base_uri": "https://localhost:8080/"
        },
        "id": "MWxTtIktv9MN",
        "outputId": "51d9188f-ac9a-4d9f-e49d-b33b1310b798"
      },
      "execution_count": null,
      "outputs": [
        {
          "output_type": "stream",
          "name": "stdout",
          "text": [
            "Significance in terms of no of sigmas of the Higgs boson discovery claim from the p value =1.7*10^-9: 5.911017938341624\n",
            "Significance int terms of no of sigmas of LIGO discovery of GW150914 with p value = 2*10^-7: 5.068957749717791\n",
            "χ2 GOF using the best-fit νμ ↔ ντ oscillation solution of Super-K discovery paper for neutrino oscillations: 0.5394901931099038\n"
          ]
        }
      ]
    }
  ]
}